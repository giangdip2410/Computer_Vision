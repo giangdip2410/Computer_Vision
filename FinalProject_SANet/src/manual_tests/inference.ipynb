{
 "cells": [
  {
   "cell_type": "code",
   "execution_count": 1,
   "metadata": {},
   "outputs": [],
   "source": [
    "import tensorflow as tf\n",
    "\n",
    "import sys\n",
    "sys.path.insert(1, '../libs')\n",
    "\n",
    "from stnet import STNet\n",
    "from utils import get_images, save_images, list_images\n",
    "\n",
    "\n",
    "def stylize(contents_path, styles_path, output_dir, encoder_path, model_path, \n",
    "            resize_height=None, resize_width=None, suffix=None):\n",
    "\n",
    "    if isinstance(contents_path, str):\n",
    "        contents_path = [contents_path]\n",
    "    if isinstance(styles_path, str):\n",
    "        styles_path = [styles_path]\n",
    "\n",
    "    with tf.Graph().as_default(), tf.Session() as sess:\n",
    "        # build the dataflow graph\n",
    "        content = tf.placeholder(\n",
    "            tf.float32, shape=(1, None, None, 3), name='content')\n",
    "        style   = tf.placeholder(\n",
    "            tf.float32, shape=(1, None, None, 3), name='style')\n",
    "\n",
    "        stn = STNet(encoder_path)\n",
    "\n",
    "        output_image = stn.transform(content, style)\n",
    "\n",
    "        sess.run(tf.global_variables_initializer())\n",
    "\n",
    "        # restore the trained model and run the style transferring\n",
    "        saver = tf.train.Saver()\n",
    "        saver.restore(sess, model_path)\n",
    "\n",
    "        outputs = []\n",
    "        for content_path in contents_path:\n",
    "\n",
    "            content_img = get_images(content_path, \n",
    "                height=resize_height, width=resize_width)\n",
    "\n",
    "            for style_path in styles_path:\n",
    "\n",
    "                style_img   = get_images(style_path)\n",
    "\n",
    "                result = sess.run(output_image, \n",
    "                    feed_dict={content: content_img, style: style_img})\n",
    "\n",
    "                outputs.append(result[0])\n",
    "\n",
    "    save_images(outputs, contents_path, styles_path, output_dir, suffix=suffix)\n",
    "\n",
    "    return outputs"
   ]
  },
  {
   "cell_type": "code",
   "execution_count": 2,
   "metadata": {},
   "outputs": [],
   "source": [
    "STYLE_WEIGHTS = [3.0]\n",
    "CONTENT_WEIGHTS = [1.0]\n",
    "MODEL_SAVE_PATHS = ['../../models/style_weight_2e0.ckpt']\n",
    "\n",
    "# for inferring (stylize)\n",
    "INFERRING_CONTENT_DIR = '../../_inference/content'\n",
    "INFERRING_STYLE_DIR = '../../_inference/style'\n",
    "OUTPUTS_DIR = '../../_inference/output'"
   ]
  },
  {
   "cell_type": "code",
   "execution_count": 3,
   "metadata": {},
   "outputs": [],
   "source": [
    "content_imgs_path = list_images(INFERRING_CONTENT_DIR)\n",
    "style_imgs_path   = list_images(INFERRING_STYLE_DIR)"
   ]
  },
  {
   "cell_type": "code",
   "execution_count": null,
   "metadata": {},
   "outputs": [],
   "source": []
  },
  {
   "cell_type": "code",
   "execution_count": 13,
   "metadata": {},
   "outputs": [
    {
     "name": "stdout",
     "output_type": "stream",
     "text": [
      "\n",
      ">>> Begin to stylize images\n"
     ]
    }
   ],
   "source": [
    "for style_weight, content_weight, model_save_path in zip(STYLE_WEIGHTS, CONTENT_WEIGHTS, MODEL_SAVE_PATHS):\n",
    "    print('\\n>>> Begin to stylize images')\n",
    "    \n",
    "#     stylize(content_imgs_path, style_imgs_path, OUTPUTS_DIR, \n",
    "#             ENCODER_WEIGHTS_PATH, model_save_path, \n",
    "#             suffix='-' + str(style_weight) + '-' + str(content_weight))"
   ]
  }
 ],
 "metadata": {
  "kernelspec": {
   "display_name": "Python 3",
   "language": "python",
   "name": "python3"
  },
  "language_info": {
   "codemirror_mode": {
    "name": "ipython",
    "version": 3
   },
   "file_extension": ".py",
   "mimetype": "text/x-python",
   "name": "python",
   "nbconvert_exporter": "python",
   "pygments_lexer": "ipython3",
   "version": "3.7.3"
  }
 },
 "nbformat": 4,
 "nbformat_minor": 2
}
