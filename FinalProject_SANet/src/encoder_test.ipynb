{
 "cells": [
  {
   "cell_type": "code",
   "execution_count": 36,
   "metadata": {},
   "outputs": [],
   "source": [
    "import numpy as np\n",
    "import tensorflow as tf\n",
    "from utils import *"
   ]
  },
  {
   "cell_type": "code",
   "execution_count": 49,
   "metadata": {},
   "outputs": [],
   "source": [
    "# ENCODER_LAYERS = (\n",
    "#     'conv1_1', 'relu1_1', 'conv1_2', 'relu1_2', 'pool1',\n",
    "\n",
    "#     'conv2_1', 'relu2_1', 'conv2_2', 'relu2_2', 'pool2',\n",
    "\n",
    "#     'conv3_1', 'relu3_1', 'conv3_2', 'relu3_2', \n",
    "#     'conv3_3', 'relu3_3', 'conv3_4', 'relu3_4', 'pool3',\n",
    "\n",
    "#     'conv4_1', 'relu4_1', 'conv4_2', 'relu4_2', \n",
    "#     'conv4_3', 'relu4_3', 'conv4_4', 'relu4_4', 'pool4',\n",
    "\n",
    "#     'conv5_1', 'relu5_1'\n",
    "# )"
   ]
  },
  {
   "cell_type": "code",
   "execution_count": 50,
   "metadata": {},
   "outputs": [],
   "source": [
    "ENCODER_LAYERS = (\n",
    "    'conv1_1', 'relu1_1', 'conv1_2', 'relu1_2', 'pool1',\n",
    "\n",
    "    'conv2_1', 'relu2_1', 'conv2_2', 'relu2_2', 'pool2',\n",
    "\n",
    "    'conv3_1', 'relu3_1', 'conv3_2', 'relu3_2', \n",
    "    'conv3_3', 'relu3_3', 'conv3_4', 'relu3_4', 'pool3',\n",
    "\n",
    "    'conv4_1', 'relu4_1'\n",
    ")"
   ]
  },
  {
   "cell_type": "code",
   "execution_count": 51,
   "metadata": {},
   "outputs": [],
   "source": [
    "def conv2d(x, kernel, bias):\n",
    "    # padding image with reflection mode\n",
    "    x_padded = tf.pad(x, [[0, 0], [1, 1], [1, 1], [0, 0]], mode='REFLECT')\n",
    "\n",
    "    # conv and add bias\n",
    "    out = tf.nn.conv2d(x_padded, kernel, strides=[1, 1, 1, 1], padding='VALID')\n",
    "    out = tf.nn.bias_add(out, bias)\n",
    "\n",
    "    return out\n",
    "\n",
    "def pool2d(x):\n",
    "    return tf.nn.max_pool(x, ksize=[1, 2, 2, 1], strides=[1, 2, 2, 1], padding='SAME')"
   ]
  },
  {
   "cell_type": "code",
   "execution_count": 72,
   "metadata": {},
   "outputs": [],
   "source": [
    "class Encoder:\n",
    "    def __init__(self, weights_path):\n",
    "        # load weights (kernel and bias) from npz file\n",
    "        weights = np.load(weights_path)\n",
    "\n",
    "        idx = 0\n",
    "        self.weight_vars = []\n",
    "\n",
    "        # create the TensorFlow variables\n",
    "        with tf.variable_scope('encoder'):\n",
    "            for layer in ENCODER_LAYERS:\n",
    "                kind = layer[:4]\n",
    "\n",
    "                if kind == 'conv':\n",
    "                    kernel = weights['arr_%d' % idx].transpose([2, 3, 1, 0])\n",
    "                    bias   = weights['arr_%d' % (idx + 1)]\n",
    "                    kernel = kernel.astype(np.float32)\n",
    "                    bias   = bias.astype(np.float32)\n",
    "                    idx += 2\n",
    "\n",
    "                    with tf.variable_scope(layer):\n",
    "                        W = tf.Variable(kernel, trainable=False, name='kernel')\n",
    "                        b = tf.Variable(bias,   trainable=False, name='bias')\n",
    "\n",
    "                    self.weight_vars.append((W, b))\n",
    "\n",
    "    def encode(self, image):\n",
    "        # create the computational graph\n",
    "        idx = 0\n",
    "        layers = {}\n",
    "        current = image\n",
    "\n",
    "        for layer in ENCODER_LAYERS:\n",
    "            kind = layer[:4]\n",
    "\n",
    "            if kind == 'conv':\n",
    "                kernel, bias = self.weight_vars[idx]\n",
    "                idx += 1\n",
    "                current = conv2d(current, kernel, bias)\n",
    "\n",
    "            elif kind == 'relu':\n",
    "                current = tf.nn.relu(current)\n",
    "\n",
    "            elif kind == 'pool':\n",
    "                current = pool2d(current)\n",
    "\n",
    "            layers[layer] = current\n",
    "\n",
    "        assert(len(layers) == len(ENCODER_LAYERS))\n",
    "\n",
    "        enc = layers[ENCODER_LAYERS[-1]]\n",
    "\n",
    "        return enc, layers\n",
    "\n",
    "    def preprocess(self, image, mode='BGR'):\n",
    "        if mode == 'BGR':\n",
    "            return image - np.array([103.939, 116.779, 123.68])\n",
    "        else:\n",
    "            return image - np.array([123.68, 116.779, 103.939])\n",
    "\n",
    "    def deprocess(self, image, mode='BGR'):\n",
    "        if mode == 'BGR':\n",
    "            return image + np.array([103.939, 116.779, 123.68])\n",
    "        else:\n",
    "            return image + np.array([123.68, 116.779, 103.939])"
   ]
  },
  {
   "cell_type": "code",
   "execution_count": 53,
   "metadata": {},
   "outputs": [],
   "source": [
    "TRAINING_CONTENT_DIR = '../_input/content'\n",
    "TRAINING_STYLE_DIR = '../_input/style'\n",
    "ENCODER_WEIGHTS_PATH = 'vgg19_normalised.npz'\n",
    "\n",
    "TRAINING_IMAGE_SHAPE = (256, 256, 3) # (height, width, color_channels)\n",
    "HEIGHT, WIDTH, CHANNELS = TRAINING_IMAGE_SHAPE\n",
    "\n",
    "content_imgs_path = list_images(TRAINING_CONTENT_DIR)\n",
    "style_imgs_path   = list_images(TRAINING_STYLE_DIR)"
   ]
  },
  {
   "cell_type": "code",
   "execution_count": 54,
   "metadata": {},
   "outputs": [],
   "source": [
    "encoder = Encoder(ENCODER_WEIGHTS_PATH)"
   ]
  },
  {
   "cell_type": "code",
   "execution_count": 55,
   "metadata": {},
   "outputs": [],
   "source": [
    "content_batch_path = content_imgs_path[0:8]\n",
    "style_batch_path   = style_imgs_path[0:8]\n",
    "\n",
    "content_batch = get_train_images(content_batch_path, crop_height=HEIGHT, crop_width=WIDTH)\n",
    "style_batch   = get_train_images(style_batch_path,   crop_height=HEIGHT, crop_width=WIDTH)"
   ]
  },
  {
   "cell_type": "code",
   "execution_count": 56,
   "metadata": {},
   "outputs": [],
   "source": [
    "content_batch = content_batch.astype('float32') "
   ]
  },
  {
   "cell_type": "code",
   "execution_count": 57,
   "metadata": {},
   "outputs": [],
   "source": [
    "enc_c, enc_c_layers = encoder.encode(content_batch)"
   ]
  },
  {
   "cell_type": "code",
   "execution_count": 60,
   "metadata": {},
   "outputs": [],
   "source": [
    "with tf.Session() as sess:\n",
    "    sess.run(tf.global_variables_initializer())\n",
    "    code = sess.run(enc_c)\n",
    "    layer = sess.run(enc_c_layers)"
   ]
  },
  {
   "cell_type": "code",
   "execution_count": 61,
   "metadata": {},
   "outputs": [
    {
     "data": {
      "text/plain": [
       "(8, 32, 32, 512)"
      ]
     },
     "execution_count": 61,
     "metadata": {},
     "output_type": "execute_result"
    }
   ],
   "source": [
    "code.shape"
   ]
  },
  {
   "cell_type": "code",
   "execution_count": 62,
   "metadata": {},
   "outputs": [
    {
     "data": {
      "text/plain": [
       "(8, 256, 256, 3)"
      ]
     },
     "execution_count": 62,
     "metadata": {},
     "output_type": "execute_result"
    }
   ],
   "source": [
    "content_batch.shape"
   ]
  },
  {
   "cell_type": "code",
   "execution_count": 67,
   "metadata": {
    "scrolled": true
   },
   "outputs": [
    {
     "data": {
      "text/plain": [
       "dict"
      ]
     },
     "execution_count": 67,
     "metadata": {},
     "output_type": "execute_result"
    }
   ],
   "source": [
    "type(layer)"
   ]
  },
  {
   "cell_type": "code",
   "execution_count": 71,
   "metadata": {},
   "outputs": [
    {
     "data": {
      "text/plain": [
       "dict_keys(['conv2_1', 'relu2_1', 'relu2_2', 'relu1_1', 'conv4_1', 'conv2_2', 'pool2', 'relu3_4', 'conv3_1', 'conv1_2', 'relu3_2', 'conv3_2', 'relu3_1', 'conv1_1', 'pool3', 'conv3_4', 'relu3_3', 'relu1_2', 'conv3_3', 'pool1', 'relu4_1'])"
      ]
     },
     "execution_count": 71,
     "metadata": {},
     "output_type": "execute_result"
    }
   ],
   "source": [
    "layer.keys()"
   ]
  },
  {
   "cell_type": "code",
   "execution_count": null,
   "metadata": {},
   "outputs": [],
   "source": []
  },
  {
   "cell_type": "code",
   "execution_count": null,
   "metadata": {},
   "outputs": [],
   "source": []
  },
  {
   "cell_type": "code",
   "execution_count": null,
   "metadata": {},
   "outputs": [],
   "source": []
  },
  {
   "cell_type": "code",
   "execution_count": null,
   "metadata": {},
   "outputs": [],
   "source": []
  },
  {
   "cell_type": "code",
   "execution_count": null,
   "metadata": {},
   "outputs": [],
   "source": []
  },
  {
   "cell_type": "code",
   "execution_count": null,
   "metadata": {},
   "outputs": [],
   "source": []
  },
  {
   "cell_type": "code",
   "execution_count": null,
   "metadata": {},
   "outputs": [],
   "source": []
  },
  {
   "cell_type": "code",
   "execution_count": null,
   "metadata": {},
   "outputs": [],
   "source": []
  },
  {
   "cell_type": "code",
   "execution_count": null,
   "metadata": {},
   "outputs": [],
   "source": []
  },
  {
   "cell_type": "code",
   "execution_count": null,
   "metadata": {},
   "outputs": [],
   "source": []
  },
  {
   "cell_type": "code",
   "execution_count": null,
   "metadata": {},
   "outputs": [],
   "source": []
  },
  {
   "cell_type": "code",
   "execution_count": null,
   "metadata": {},
   "outputs": [],
   "source": []
  },
  {
   "cell_type": "code",
   "execution_count": null,
   "metadata": {},
   "outputs": [],
   "source": []
  },
  {
   "cell_type": "code",
   "execution_count": null,
   "metadata": {},
   "outputs": [],
   "source": []
  },
  {
   "cell_type": "code",
   "execution_count": null,
   "metadata": {},
   "outputs": [],
   "source": []
  },
  {
   "cell_type": "code",
   "execution_count": 18,
   "metadata": {},
   "outputs": [],
   "source": [
    "content = tf.reverse(content_batch, axis=[-1])\n",
    "style   = tf.reverse(style_batch,   axis=[-1])"
   ]
  },
  {
   "cell_type": "code",
   "execution_count": 19,
   "metadata": {},
   "outputs": [],
   "source": [
    "content = encoder.preprocess(content, mode='BGR')\n",
    "style   = encoder.preprocess(style, mode='BGR')"
   ]
  },
  {
   "cell_type": "code",
   "execution_count": 21,
   "metadata": {},
   "outputs": [],
   "source": [
    "# enc_c, enc_c_layers = encoder.encode(content)\n",
    "# enc_s, enc_s_layers = encoder.encode(style)"
   ]
  },
  {
   "cell_type": "code",
   "execution_count": null,
   "metadata": {},
   "outputs": [],
   "source": []
  },
  {
   "cell_type": "code",
   "execution_count": null,
   "metadata": {},
   "outputs": [],
   "source": []
  },
  {
   "cell_type": "code",
   "execution_count": null,
   "metadata": {},
   "outputs": [],
   "source": []
  },
  {
   "cell_type": "code",
   "execution_count": null,
   "metadata": {},
   "outputs": [],
   "source": []
  }
 ],
 "metadata": {
  "kernelspec": {
   "display_name": "Python 3",
   "language": "python",
   "name": "python3"
  },
  "language_info": {
   "codemirror_mode": {
    "name": "ipython",
    "version": 3
   },
   "file_extension": ".py",
   "mimetype": "text/x-python",
   "name": "python",
   "nbconvert_exporter": "python",
   "pygments_lexer": "ipython3",
   "version": "3.5.2"
  }
 },
 "nbformat": 4,
 "nbformat_minor": 2
}
