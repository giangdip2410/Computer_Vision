{
 "cells": [
  {
   "cell_type": "markdown",
   "metadata": {},
   "source": [
    "# <div align=\"center\">Implement the image rotation with nearest neighbor interpolation.</div>\n",
    "---------------------------------------------------------------------\n",
    "\n",
    "you can Find me on Github:\n",
    "> ###### [ GitHub](https://github.com/lev1khachatryan)"
   ]
  },
  {
   "cell_type": "markdown",
   "metadata": {},
   "source": [
    " "
   ]
  },
  {
   "cell_type": "markdown",
   "metadata": {},
   "source": [
    " "
   ]
  },
  {
   "cell_type": "markdown",
   "metadata": {},
   "source": [
    " "
   ]
  },
  {
   "cell_type": "code",
   "execution_count": 111,
   "metadata": {},
   "outputs": [],
   "source": [
    "import numpy as np\n",
    "\n",
    "from collections import Counter\n",
    "\n",
    "import matplotlib.pyplot as plt\n",
    "import matplotlib.image as mpimg\n",
    "\n",
    "import copy\n",
    "\n",
    "img=mpimg.imread('inputs/1.png')\n",
    "\n",
    "angle = 45"
   ]
  },
  {
   "cell_type": "code",
   "execution_count": 112,
   "metadata": {
    "scrolled": true
   },
   "outputs": [
    {
     "data": {
      "text/plain": [
       "<matplotlib.image.AxesImage at 0x27841157898>"
      ]
     },
     "execution_count": 112,
     "metadata": {},
     "output_type": "execute_result"
    },
    {
     "data": {
      "image/png": "[encoded data removed]",
      "text/plain": [
       "<Figure size 432x288 with 1 Axes>"
      ]
     },
     "metadata": {
      "needs_background": "light"
     },
     "output_type": "display_data"
    }
   ],
   "source": [
    "plt.imshow(img)"
   ]
  },
  {
   "cell_type": "code",
   "execution_count": 125,
   "metadata": {},
   "outputs": [],
   "source": [
    "# def lookupNearest(x0, y0):\n",
    "#     xi = numpy.abs(x-x0).argmin()\n",
    "#     yi = numpy.abs(y-y0).argmin()\n",
    "#     return data[yi,xi]"
   ]
  },
  {
   "cell_type": "code",
   "execution_count": 10,
   "metadata": {},
   "outputs": [],
   "source": [
    "# def nn_interpolate(A, new_size):\n",
    "#     \"\"\"\n",
    "#     Nearest Neighbor Interpolation, Step by Step\n",
    "    \n",
    "#     Parameters:\n",
    "#         A (matrix) - initial image to interpolate\n",
    "#         new_size (list or scalar) - new image shape\n",
    "    \n",
    "#     Returns:\n",
    "#         matrix (interpolated image)\n",
    "#     \"\"\"\n",
    "#     # get sizes\n",
    "#     old_size = A.shape\n",
    "    \n",
    "#     # calculate row and column ratios\n",
    "#     row_ratio, col_ratio = new_size[0]/old_size[0], new_size[1]/old_size[1]\n",
    "    \n",
    "#     # define new pixel row position i\n",
    "#     new_row_positions = np.array(range(new_size[0]))+1\n",
    "#     new_col_positions = np.array(range(new_size[1]))+1\n",
    "    \n",
    "#     # normalize new row and col positions by ratios\n",
    "#     new_row_positions = new_row_positions / row_ratio\n",
    "#     new_col_positions = new_col_positions / col_ratio\n",
    "    \n",
    "#     # apply ceil to normalized new row and col positions\n",
    "#     new_row_positions = np.ceil(new_row_positions)\n",
    "#     new_col_positions = np.ceil(new_col_positions)\n",
    "    \n",
    "#     # find how many times to repeat each element\n",
    "#     row_repeats = np.array(list(Counter(new_row_positions).values()))\n",
    "#     col_repeats = np.array(list(Counter(new_col_positions).values()))\n",
    "    \n",
    "#     # perform column-wise interpolation on the columns of the matrix\n",
    "#     row_matrix = np.dstack([np.repeat(A[:, i], row_repeats) \n",
    "#                             for i in range(old_size[1])])[0]\n",
    "    \n",
    "#     # perform column-wise interpolation on the columns of the matrix\n",
    "#     nrow, ncol = row_matrix.shape\n",
    "#     final_matrix = np.stack([np.repeat(row_matrix[i, :], col_repeats)\n",
    "#                              for i in range(nrow)])\n",
    "\n",
    "#     return final_matrix\n",
    "    \n",
    "    \n",
    "def nn_interpolate_vectorized(A, new_size):\n",
    "    \"\"\"\n",
    "    Nearest Neighbor Interpolation\n",
    "    \n",
    "    Parameters:\n",
    "        A (matrix) - initial image to interpolate\n",
    "        new_size (list or scalar) - new image shape\n",
    "    \n",
    "    Returns:\n",
    "        matrix (interpolated image)\n",
    "    \"\"\"\n",
    "\n",
    "    old_size = A.shape\n",
    "    row_ratio, col_ratio = np.array(new_size)/np.array(old_size)\n",
    "\n",
    "    # row wise interpolation \n",
    "    row_idx = (np.ceil(range(1, 1 + int(old_size[0]*row_ratio))/row_ratio) - 1).astype(int)\n",
    "\n",
    "    # column wise interpolation\n",
    "    col_idx = (np.ceil(range(1, 1 + int(old_size[1]*col_ratio))/col_ratio) - 1).astype(int)\n",
    "\n",
    "    final_matrix = A[:, row_idx][col_idx, :]\n",
    "\n",
    "    return final_matrix"
   ]
  },
  {
   "cell_type": "code",
   "execution_count": 11,
   "metadata": {},
   "outputs": [],
   "source": [
    "new_img = nn_interpolate_vectorized(img, [400, 280])"
   ]
  },
  {
   "cell_type": "code",
   "execution_count": 12,
   "metadata": {},
   "outputs": [
    {
     "data": {
      "text/plain": [
       "<matplotlib.image.AxesImage at 0x2783eb287b8>"
      ]
     },
     "execution_count": 12,
     "metadata": {},
     "output_type": "execute_result"
    },
    {
     "data": {
      "image/png": "[encoded data removed]",
      "text/plain": [
       "<Figure size 432x288 with 1 Axes>"
      ]
     },
     "metadata": {
      "needs_background": "light"
     },
     "output_type": "display_data"
    }
   ],
   "source": [
    "plt.imshow(new_img)"
   ]
  },
  {
   "cell_type": "code",
   "execution_count": null,
   "metadata": {},
   "outputs": [],
   "source": []
  },
  {
   "cell_type": "code",
   "execution_count": 124,
   "metadata": {
    "scrolled": true
   },
   "outputs": [
    {
     "data": {
      "image/png": "[encoded data removed]",
      "text/plain": [
       "<Figure size 432x288 with 2 Axes>"
      ]
     },
     "metadata": {
      "needs_background": "light"
     },
     "output_type": "display_data"
    }
   ],
   "source": [
    "import numpy as np\n",
    "import matplotlib.pyplot as plt\n",
    "from PIL import Image\n",
    "\n",
    "def GetRotateMatrixWithCenter(x, y, angle):\n",
    "    move_matrix = np.array(\n",
    "        [\n",
    "            [1, 0, x], \n",
    "            [0, 1, y], \n",
    "            [0, 0, 1]\n",
    "        ])\n",
    "    rotation_matrix = np.array(\n",
    "        [\n",
    "            [np.cos(angle), -np.sin(angle), 0], \n",
    "            [np.sin(angle),  np.cos(angle), 0], \n",
    "            [0, 0, 1]\n",
    "        ])\n",
    "    back_matrix = np.array(\n",
    "        [\n",
    "            [1, 0, -x],\n",
    "            [0, 1, -y],\n",
    "            [0, 0, 1]\n",
    "        ])\n",
    "\n",
    "    r = np.dot(move_matrix, rotation_matrix)\n",
    "    return np.dot(r, back_matrix)\n",
    "\n",
    "def Apply_Matrix_To_Image(matrix_to_apply, image_map):\n",
    "    #takes an image and matrices and applies it.  \n",
    "    x_min = 0\n",
    "    y_min = 0\n",
    "    x_max = image_map.shape[0]\n",
    "    y_max = image_map.shape[1]\n",
    "\n",
    "    new_image_map = np.zeros((x_max, y_max), dtype=int)\n",
    "\n",
    "    for y_counter in range(0, y_max):\n",
    "        for x_counter in range(0, x_max):\n",
    "            curr_pixel = [x_counter,y_counter,1]\n",
    "\n",
    "            curr_pixel = np.dot(matrix_to_apply, curr_pixel)\n",
    "\n",
    "            if curr_pixel[0] > x_max - 1 or curr_pixel[1] > y_max - 1 or x_min > curr_pixel[0] or y_min > curr_pixel[1]:\n",
    "                next\n",
    "            else:\n",
    "                new_image_map[x_counter][y_counter] = image_map[int(curr_pixel[0])][int(curr_pixel[1])] \n",
    "\n",
    "    return new_image_map\n",
    "\n",
    "\n",
    "img = Image.open('inputs/1.png').convert(\"L\")\n",
    "img = np.asarray(img)\n",
    "\n",
    "image_width = img.shape[0]\n",
    "image_height = img.shape[1] \n",
    "\n",
    "plt.subplot(1,2,1)\n",
    "plt.title('Origin image')\n",
    "plt.imshow(img, cmap='gray', vmin=0, vmax=255)\n",
    "\n",
    "plt.subplot(1,2,2)\n",
    "plt.title('Transformed image')\n",
    "\n",
    "\n",
    "rotation_angle = 45\n",
    "rotation_angle = np.deg2rad(rotation_angle) # degree to radian\n",
    "\n",
    "rotation_matrix = GetRotateMatrixWithCenter(image_width / 2, image_height / 2, rotation_angle)\n",
    "\n",
    "roteated = Apply_Matrix_To_Image(rotation_matrix, img)\n",
    "\n",
    "plt.imshow(roteated, cmap='gray', vmin=0, vmax=255)\n",
    "\n",
    "plt.show();"
   ]
  },
  {
   "cell_type": "code",
   "execution_count": null,
   "metadata": {},
   "outputs": [],
   "source": []
  }
 ],
 "metadata": {
  "kernelspec": {
   "display_name": "Python 3",
   "language": "python",
   "name": "python3"
  },
  "language_info": {
   "codemirror_mode": {
    "name": "ipython",
    "version": 3
   },
   "file_extension": ".py",
   "mimetype": "text/x-python",
   "name": "python",
   "nbconvert_exporter": "python",
   "pygments_lexer": "ipython3",
   "version": "3.7.3"
  }
 },
 "nbformat": 4,
 "nbformat_minor": 2
}
