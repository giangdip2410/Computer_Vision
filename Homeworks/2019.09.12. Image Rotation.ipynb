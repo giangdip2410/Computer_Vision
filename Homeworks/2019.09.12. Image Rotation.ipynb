{
 "cells": [
  {
   "cell_type": "markdown",
   "metadata": {},
   "source": [
    "# <div align=\"center\">Implement the image rotation with nearest neighbor interpolation.</div>\n",
    "---------------------------------------------------------------------\n",
    "\n",
    "you can Find me on Github:\n",
    "> ###### [ GitHub](https://github.com/lev1khachatryan)"
   ]
  },
  {
   "cell_type": "markdown",
   "metadata": {},
   "source": [
    " "
   ]
  },
  {
   "cell_type": "markdown",
   "metadata": {},
   "source": [
    " "
   ]
  },
  {
   "cell_type": "markdown",
   "metadata": {},
   "source": []
  },
  {
   "cell_type": "markdown",
   "metadata": {},
   "source": []
  },
  {
   "cell_type": "markdown",
   "metadata": {},
   "source": [
    " "
   ]
  },
  {
   "cell_type": "code",
   "execution_count": 83,
   "metadata": {},
   "outputs": [],
   "source": [
    "import numpy as np\n",
    "\n",
    "from collections import Counter\n",
    "\n",
    "import matplotlib.pyplot as plt\n",
    "import matplotlib.image as mpimg\n",
    "\n",
    "import copy\n",
    "\n",
    "img=mpimg.imread('inputs/1.png')"
   ]
  },
  {
   "cell_type": "code",
   "execution_count": 75,
   "metadata": {},
   "outputs": [
    {
     "data": {
      "text/plain": [
       "<matplotlib.image.AxesImage at 0x1ce38410c50>"
      ]
     },
     "execution_count": 75,
     "metadata": {},
     "output_type": "execute_result"
    },
    {
     "data": {
      "image/png": "[encoded data removed]",
      "text/plain": [
       "<Figure size 432x288 with 1 Axes>"
      ]
     },
     "metadata": {
      "needs_background": "light"
     },
     "output_type": "display_data"
    }
   ],
   "source": [
    "plt.imshow(img)"
   ]
  },
  {
   "cell_type": "code",
   "execution_count": 88,
   "metadata": {},
   "outputs": [],
   "source": [
    "def nn_interpolate(A, new_size):\n",
    "    \"\"\"\n",
    "    Nearest Neighbor Interpolation, Step by Step\n",
    "    \n",
    "    Parameters:\n",
    "        A (matrix) - initial image to interpolate\n",
    "        new_size (list or scalar) - new image shape\n",
    "    \n",
    "    Returns:\n",
    "        matrix (interpolated image)\n",
    "    \"\"\"\n",
    "    # get sizes\n",
    "    old_size = A.shape\n",
    "    \n",
    "    # calculate row and column ratios\n",
    "    row_ratio, col_ratio = new_size[0]/old_size[0], new_size[1]/old_size[1]\n",
    "    \n",
    "    # define new pixel row position i\n",
    "    new_row_positions = np.array(range(new_size[0]))+1\n",
    "    new_col_positions = np.array(range(new_size[1]))+1\n",
    "    \n",
    "    # normalize new row and col positions by ratios\n",
    "    new_row_positions = new_row_positions / row_ratio\n",
    "    new_col_positions = new_col_positions / col_ratio\n",
    "    \n",
    "    # apply ceil to normalized new row and col positions\n",
    "    new_row_positions = np.ceil(new_row_positions)\n",
    "    new_col_positions = np.ceil(new_col_positions)\n",
    "    \n",
    "    # find how many times to repeat each element\n",
    "    row_repeats = np.array(list(Counter(new_row_positions).values()))\n",
    "    col_repeats = np.array(list(Counter(new_col_positions).values()))\n",
    "    \n",
    "    # perform column-wise interpolation on the columns of the matrix\n",
    "    row_matrix = np.dstack([np.repeat(A[:, i], row_repeats) \n",
    "                            for i in range(old_size[1])])[0]\n",
    "    \n",
    "    # perform column-wise interpolation on the columns of the matrix\n",
    "    nrow, ncol = row_matrix.shape\n",
    "    final_matrix = np.stack([np.repeat(row_matrix[i, :], col_repeats)\n",
    "                             for i in range(nrow)])\n",
    "\n",
    "    return final_matrix\n",
    "    \n",
    "    \n",
    "def nn_interpolate_vectorized(A, new_size):\n",
    "    \"\"\"Vectorized Nearest Neighbor Interpolation\"\"\"\n",
    "\n",
    "    old_size = A.shape\n",
    "    row_ratio, col_ratio = np.array(new_size)/np.array(old_size)\n",
    "\n",
    "    # row wise interpolation \n",
    "    row_idx = (np.ceil(range(1, 1 + int(old_size[0]*row_ratio))/row_ratio) - 1).astype(int)\n",
    "\n",
    "    # column wise interpolation\n",
    "    col_idx = (np.ceil(range(1, 1 + int(old_size[1]*col_ratio))/col_ratio) - 1).astype(int)\n",
    "\n",
    "    final_matrix = A[:, row_idx][col_idx, :]\n",
    "\n",
    "    return final_matrix"
   ]
  },
  {
   "cell_type": "code",
   "execution_count": 89,
   "metadata": {},
   "outputs": [],
   "source": [
    "new_img = nn_interpolate(img, [280, 400])"
   ]
  },
  {
   "cell_type": "code",
   "execution_count": 90,
   "metadata": {},
   "outputs": [
    {
     "data": {
      "text/plain": [
       "<matplotlib.image.AxesImage at 0x1ce37eb6390>"
      ]
     },
     "execution_count": 90,
     "metadata": {},
     "output_type": "execute_result"
    },
    {
     "data": {
      "image/png": "[encoded data removed]",
      "text/plain": [
       "<Figure size 432x288 with 1 Axes>"
      ]
     },
     "metadata": {
      "needs_background": "light"
     },
     "output_type": "display_data"
    }
   ],
   "source": [
    "plt.imshow(new_img)"
   ]
  },
  {
   "cell_type": "code",
   "execution_count": 91,
   "metadata": {},
   "outputs": [],
   "source": [
    "new_img = nn_interpolate_vectorized(img, [400, 280])"
   ]
  },
  {
   "cell_type": "code",
   "execution_count": 92,
   "metadata": {},
   "outputs": [
    {
     "data": {
      "text/plain": [
       "<matplotlib.image.AxesImage at 0x1ce37d8c128>"
      ]
     },
     "execution_count": 92,
     "metadata": {},
     "output_type": "execute_result"
    },
    {
     "data": {
      "image/png": "[encoded data removed]",
      "text/plain": [
       "<Figure size 432x288 with 1 Axes>"
      ]
     },
     "metadata": {
      "needs_background": "light"
     },
     "output_type": "display_data"
    }
   ],
   "source": [
    "plt.imshow(new_img)"
   ]
  },
  {
   "cell_type": "code",
   "execution_count": null,
   "metadata": {},
   "outputs": [],
   "source": []
  },
  {
   "cell_type": "code",
   "execution_count": null,
   "metadata": {},
   "outputs": [],
   "source": []
  },
  {
   "cell_type": "code",
   "execution_count": null,
   "metadata": {},
   "outputs": [],
   "source": []
  }
 ],
 "metadata": {
  "kernelspec": {
   "display_name": "Python 3",
   "language": "python",
   "name": "python3"
  },
  "language_info": {
   "codemirror_mode": {
    "name": "ipython",
    "version": 3
   },
   "file_extension": ".py",
   "mimetype": "text/x-python",
   "name": "python",
   "nbconvert_exporter": "python",
   "pygments_lexer": "ipython3",
   "version": "3.7.3"
  }
 },
 "nbformat": 4,
 "nbformat_minor": 2
}
