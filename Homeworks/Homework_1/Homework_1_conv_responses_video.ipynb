{
 "cells": [
  {
   "cell_type": "code",
   "execution_count": 1,
   "metadata": {},
   "outputs": [],
   "source": [
    "from skimage.io import imread\n",
    "from skimage.transform import resize\n",
    "import matplotlib.pyplot as plt\n",
    "%matplotlib inline\n",
    "\n",
    "import numpy as np\n",
    "from scipy.signal import convolve2d\n",
    "\n",
    "import cv2\n",
    "import time\n",
    "from tqdm import tqdm\n",
    "from skimage.color import rgb2gray\n",
    "\n",
    "from scipy import ndimage, misc"
   ]
  },
  {
   "cell_type": "code",
   "execution_count": 2,
   "metadata": {},
   "outputs": [],
   "source": [
    "def get_pattern(img, kernel): \n",
    "    tilde_A = convolve2d(img, kernel, boundary='symm', mode='same') # TODO obtain the image \\tilde{A}\n",
    "    overline_A = np.sqrt(convolve2d(np.square(img), np.ones(kernel.shape), boundary='symm', mode='same')) # TODO obtain the image \\overline{A}\n",
    "    result = tilde_A / overline_A \n",
    "    return result"
   ]
  },
  {
   "cell_type": "code",
   "execution_count": 3,
   "metadata": {},
   "outputs": [
    {
     "data": {
      "text/plain": [
       "14.18447232246399"
      ]
     },
     "execution_count": 3,
     "metadata": {},
     "output_type": "execute_result"
    }
   ],
   "source": [
    "vidcap = cv2.VideoCapture('jesture_video.mov')\n",
    "frames = []\n",
    "def getFrame(sec):\n",
    "    vidcap.set(cv2.CAP_PROP_POS_MSEC,sec*1000)\n",
    "    hasFrames, image = vidcap.read()\n",
    "    if hasFrames:\n",
    "        frames.append(image)\n",
    "    return hasFrames\n",
    "sec = 0\n",
    "frameRate = 0.5 #//it will capture image in each 0.5 second\n",
    "count=1\n",
    "success = getFrame(sec)\n",
    "start = time.time()\n",
    "while success:\n",
    "    count = count + 1\n",
    "    sec = sec + frameRate\n",
    "    sec = round(sec, 2)\n",
    "    success = getFrame(sec)\n",
    "time.time() - start"
   ]
  },
  {
   "cell_type": "code",
   "execution_count": 4,
   "metadata": {},
   "outputs": [
    {
     "name": "stderr",
     "output_type": "stream",
     "text": [
      "100%|██████████████████████████████████████████████████████████████████████████████████| 69/69 [00:10<00:00,  6.32it/s]\n"
     ]
    }
   ],
   "source": [
    "frames_gr = []\n",
    "for frame in tqdm(frames):\n",
    "    frames_gr.append(rgb2gray(frame[:,:,::-1]))"
   ]
  },
  {
   "cell_type": "code",
   "execution_count": 5,
   "metadata": {},
   "outputs": [
    {
     "name": "stderr",
     "output_type": "stream",
     "text": [
      "  0%|                                                                                           | 0/69 [00:00<?, ?it/s]C:\\ProgramData\\Anaconda3\\lib\\site-packages\\skimage\\transform\\_warps.py:105: UserWarning: The default mode, 'constant', will be changed to 'reflect' in skimage 0.15.\n",
      "  warn(\"The default mode, 'constant', will be changed to 'reflect' in \"\n",
      "100%|██████████████████████████████████████████████████████████████████████████████████| 69/69 [00:05<00:00, 12.65it/s]\n"
     ]
    }
   ],
   "source": [
    "frames_gr_minimized = []\n",
    "\n",
    "for frame in tqdm(frames_gr):\n",
    "#     plt.imshow(resize(frame, (int(frame.shape[0] / 4), int(frame.shape[1] / 4)), anti_aliasing=True))\n",
    "    frames_gr_minimized.append(resize(frame, (int(frame.shape[0] / 8), int(frame.shape[1] / 8)), anti_aliasing=True))\n",
    "#     frames_gr_minimized.append(misc.imresize(frame, (128, 128)))\n",
    "#     frames_gr_minimized.append(misc.imresize(frame[t:, l:], (128, 128)))"
   ]
  },
  {
   "cell_type": "code",
   "execution_count": 11,
   "metadata": {},
   "outputs": [
    {
     "data": {
      "text/plain": [
       "array([[0.40957285, 0.47217393, 0.47379524, ..., 0.48709885, 0.48207322,\n",
       "        0.4185172 ],\n",
       "       [0.48145479, 0.55230032, 0.55277037, ..., 0.57332117, 0.57251493,\n",
       "        0.49750619],\n",
       "       [0.4834638 , 0.54941636, 0.54888163, ..., 0.57940438, 0.58005249,\n",
       "        0.50450133],\n",
       "       ...,\n",
       "       [0.00963646, 0.01417229, 0.0248703 , ..., 0.32534391, 0.3267955 ,\n",
       "        0.28903021],\n",
       "       [0.20670191, 0.23962598, 0.24820674, ..., 0.31036452, 0.30958054,\n",
       "        0.27572429],\n",
       "       [0.29181113, 0.33551236, 0.34145066, ..., 0.25589495, 0.25371779,\n",
       "        0.23099076]])"
      ]
     },
     "execution_count": 11,
     "metadata": {},
     "output_type": "execute_result"
    }
   ],
   "source": [
    "frames_gr_minimized[0]"
   ]
  },
  {
   "cell_type": "code",
   "execution_count": null,
   "metadata": {},
   "outputs": [],
   "source": []
  },
  {
   "cell_type": "code",
   "execution_count": null,
   "metadata": {},
   "outputs": [],
   "source": []
  }
 ],
 "metadata": {
  "kernelspec": {
   "display_name": "Python 3",
   "language": "python",
   "name": "python3"
  },
  "language_info": {
   "codemirror_mode": {
    "name": "ipython",
    "version": 3
   },
   "file_extension": ".py",
   "mimetype": "text/x-python",
   "name": "python",
   "nbconvert_exporter": "python",
   "pygments_lexer": "ipython3",
   "version": "3.7.3"
  }
 },
 "nbformat": 4,
 "nbformat_minor": 2
}
