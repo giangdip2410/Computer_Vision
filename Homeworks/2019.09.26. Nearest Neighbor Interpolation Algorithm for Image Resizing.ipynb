{
 "cells": [
  {
   "cell_type": "code",
   "execution_count": 78,
   "metadata": {},
   "outputs": [],
   "source": [
    "import numpy as np\n",
    "\n",
    "import matplotlib.pyplot as plt\n",
    "import matplotlib.image as mpimg\n",
    "\n",
    "import copy\n",
    "\n",
    "from math import floor, ceil"
   ]
  },
  {
   "cell_type": "code",
   "execution_count": 79,
   "metadata": {},
   "outputs": [],
   "source": [
    "def NN_Interpolate(img, i, j):\n",
    "    \"\"\"\n",
    "    Nearest Neighbor Interpolation\n",
    "    \n",
    "    Parameters:\n",
    "        img(matrix) - initial unchanged image\n",
    "        i(int) -  i-th index\n",
    "        j(int) - j-th index\n",
    "        \n",
    "    Return:\n",
    "        list(neighbor or exact pixel from initial image)\n",
    "    \"\"\"\n",
    "    return img[floor(i*img.shape[0]), floor(j*img.shape[1])]"
   ]
  },
  {
   "cell_type": "code",
   "execution_count": 80,
   "metadata": {},
   "outputs": [],
   "source": [
    "def Sampling(shape, i, j):\n",
    "    \"\"\"\n",
    "    Uniform Sampling\n",
    "    \n",
    "    Parameters:\n",
    "        shape(list or tuple) - shape of the image we want sample from\n",
    "        i(int) -  i-th index\n",
    "        j(int) - j-th index\n",
    "        \n",
    "    Returns:\n",
    "        tuple(of floats) - sampled pixel\n",
    "    \"\"\"\n",
    "    H, W = shape\n",
    "    return (2*i+1)/(2*H), (2*j+1)/(2*W)"
   ]
  },
  {
   "cell_type": "code",
   "execution_count": 81,
   "metadata": {},
   "outputs": [],
   "source": [
    "def Image_Resizing(initial_img, new_img_shape):\n",
    "    \"\"\"\n",
    "    Image Resizing\n",
    "    \n",
    "    Parameters:\n",
    "        initial_img(matrix) - initial unchanged image\n",
    "        new_img_shape(list or tuple) - shape of the new image \n",
    "        \n",
    "    Returns:\n",
    "        matrix(resized image)\n",
    "    \"\"\"\n",
    "    \n",
    "    H, W = initial_img.shape\n",
    "    H_n, W_n = new_img_shape\n",
    "\n",
    "    new_image = np.zeros(new_img_shape, dtype=float)\n",
    "\n",
    "    for x in range(H_n):\n",
    "        for y in range(W_n):\n",
    "            new_image[x, y] = NN_Interpolate(initial_img, Sampling(new_img_shape, x, y)[0], Sampling(new_img_shape, x, y)[1])\n",
    "    return new_image"
   ]
  },
  {
   "cell_type": "code",
   "execution_count": 82,
   "metadata": {},
   "outputs": [
    {
     "data": {
      "image/png": "[encoded data removed]",
      "text/plain": [
       "<Figure size 432x288 with 2 Axes>"
      ]
     },
     "metadata": {
      "needs_background": "light"
     },
     "output_type": "display_data"
    }
   ],
   "source": [
    "img=mpimg.imread('inputs/20190926/1.png')\n",
    "\n",
    "plt.subplot(1,2,1)\n",
    "plt.title('Origin image')\n",
    "plt.imshow(img)\n",
    "\n",
    "plt.subplot(1,2,2)\n",
    "plt.title('Resized image')\n",
    "\n",
    "new_image_shape = tuple([2*x for x in img.shape])\n",
    "\n",
    "# new_image_shape = [500, 500]\n",
    "\n",
    "resized = Image_Resizing(img, new_image_shape)\n",
    "\n",
    "plt.imshow(resized)\n",
    "\n",
    "plt.show();"
   ]
  },
  {
   "cell_type": "markdown",
   "metadata": {},
   "source": [
    " "
   ]
  },
  {
   "cell_type": "markdown",
   "metadata": {},
   "source": [
    " "
   ]
  },
  {
   "cell_type": "markdown",
   "metadata": {},
   "source": [
    "# Another Way"
   ]
  },
  {
   "cell_type": "code",
   "execution_count": 83,
   "metadata": {},
   "outputs": [],
   "source": [
    "def resize_NN(img, shape):\n",
    "    H, W = img.shape\n",
    "    H_n, W_n = shape\n",
    "    A_p = np.zeros(shape)\n",
    "    for i in range(H_n):\n",
    "        for j in range(W_n):\n",
    "            x, y = (2*i + 1)/(2*H_n), (2*j + 1)/(2*W_n)\n",
    "            A_p[i, j] = img[int(x*H), int(y*W)]\n",
    "    return A_p"
   ]
  },
  {
   "cell_type": "code",
   "execution_count": 84,
   "metadata": {},
   "outputs": [
    {
     "data": {
      "image/png": "[encoded data removed]",
      "text/plain": [
       "<Figure size 432x288 with 2 Axes>"
      ]
     },
     "metadata": {
      "needs_background": "light"
     },
     "output_type": "display_data"
    }
   ],
   "source": [
    "plt.subplot(1,2,1)\n",
    "plt.title('Origin image')\n",
    "plt.imshow(img)\n",
    "\n",
    "plt.subplot(1,2,2)\n",
    "plt.title('Resized image')\n",
    "\n",
    "new_image_shape = tuple([2*x for x in img.shape])\n",
    "\n",
    "# new_image_shape = [500, 500]\n",
    "\n",
    "resized = resize_NN(img, new_image_shape)\n",
    "\n",
    "plt.imshow(resized)\n",
    "\n",
    "plt.show();"
   ]
  }
 ],
 "metadata": {
  "kernelspec": {
   "display_name": "Python 3",
   "language": "python",
   "name": "python3"
  },
  "language_info": {
   "codemirror_mode": {
    "name": "ipython",
    "version": 3
   },
   "file_extension": ".py",
   "mimetype": "text/x-python",
   "name": "python",
   "nbconvert_exporter": "python",
   "pygments_lexer": "ipython3",
   "version": "3.7.3"
  }
 },
 "nbformat": 4,
 "nbformat_minor": 2
}
